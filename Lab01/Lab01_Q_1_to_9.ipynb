{
  "cells": [
    {
      "cell_type": "markdown",
      "metadata": {
        "id": "view-in-github",
        "colab_type": "text"
      },
      "source": [
        "<a href=\"https://colab.research.google.com/github/AvinashB-DA/Robot-Programming-Labs/blob/main/Lab01/Lab01_Q_1_to_9.ipynb\" target=\"_parent\"><img src=\"https://colab.research.google.com/assets/colab-badge.svg\" alt=\"Open In Colab\"/></a>"
      ]
    },
    {
      "cell_type": "markdown",
      "source": [
        "# Lab 01  Q- 1 to 9\n",
        "\n",
        "**Group Name - Techno Titans**  \n",
        "\n",
        "**Student ID : 202201211 Name : Baraiya Avinash**\n",
        "\n",
        "**Student ID : 202201143 Name : Vegad Rutvik**\n",
        "\n"
      ],
      "metadata": {
        "id": "aO7vPfw2F3hv"
      }
    },
    {
      "cell_type": "markdown",
      "source": [
        "Q1. Write a function that gives number of days of given year.\n",
        "Input : 1990 Input : 2044\n",
        "Output : 365 Output : 366"
      ],
      "metadata": {
        "id": "oeQnIx79F1bG"
      }
    },
    {
      "cell_type": "code",
      "execution_count": 1,
      "metadata": {
        "colab": {
          "base_uri": "https://localhost:8080/"
        },
        "id": "Nh57i4KYuNVe",
        "outputId": "143aafe2-8c0d-4b20-bdb9-798580d89460"
      },
      "outputs": [
        {
          "output_type": "stream",
          "name": "stdout",
          "text": [
            "365\n",
            "366\n"
          ]
        }
      ],
      "source": [
        "def number_of_days(year):\n",
        "    # Check if the year is a leap year\n",
        "    if (year % 4 == 0 and year % 100 != 0) or (year % 400 == 0):\n",
        "        return 366\n",
        "    else:\n",
        "        return 365\n",
        "\n",
        "# Test the function\n",
        "print(number_of_days(1990))  # Output: 365\n",
        "print(number_of_days(2044))  # Output: 366"
      ]
    },
    {
      "cell_type": "markdown",
      "metadata": {
        "id": "KrKJfgnnuNVf"
      },
      "source": [
        "Q2. Count the frequency of each character in a string and store it in a dictionary. An example is given\n",
        "below.\n",
        "Input: ‘adcbbdaacd’ Output: {‘a’: 3, ‘b’: 2, ‘c’: 2, ‘d’: 3}"
      ]
    },
    {
      "cell_type": "code",
      "execution_count": 2,
      "metadata": {
        "id": "X7yFjLPbuNVf",
        "outputId": "08c84de1-7c1b-42b0-be72-5d5018caf91c",
        "colab": {
          "base_uri": "https://localhost:8080/"
        }
      },
      "outputs": [
        {
          "output_type": "stream",
          "name": "stdout",
          "text": [
            "{'a': 3, 'd': 3, 'c': 2, 'b': 2}\n"
          ]
        }
      ],
      "source": [
        "# Q2. Count the frequency of each character in a string and store it in a dictionary.\n",
        "def char_frequency(s):\n",
        "    freq = {}\n",
        "    for char in s:\n",
        "        if char in freq:\n",
        "            freq[char] += 1\n",
        "        else:\n",
        "            freq[char] = 1\n",
        "    return freq\n",
        "\n",
        "# Test the function\n",
        "print(char_frequency('adcbbdaacd'))  # Output: {'a': 3, 'd': 3, 'c': 2, 'b': 2}"
      ]
    },
    {
      "cell_type": "markdown",
      "metadata": {
        "id": "uINvn3FnuNVf"
      },
      "source": [
        "Q3. Write a program to remove duplicates from a list but keep the first\n",
        "occurrence of each element.\n",
        "Input: [1, 2, 3, 4, 2, 3, 5, 6, 1, 4]\n",
        "Output: [1, 2, 3, 4, 5, 6]"
      ]
    },
    {
      "cell_type": "code",
      "execution_count": 3,
      "metadata": {
        "id": "uPQtih22uNVg",
        "outputId": "fcb87653-d556-492b-e2c5-6120ed1fb0d9",
        "colab": {
          "base_uri": "https://localhost:8080/"
        }
      },
      "outputs": [
        {
          "output_type": "stream",
          "name": "stdout",
          "text": [
            "[1, 2, 3, 4, 5, 6]\n"
          ]
        }
      ],
      "source": [
        "def remove_duplicates(lst):\n",
        "    seen = set()\n",
        "    result = []\n",
        "    for item in lst:\n",
        "        if item not in seen:\n",
        "            seen.add(item)\n",
        "            result.append(item)\n",
        "    return result\n",
        "\n",
        "# Test the function\n",
        "input_list = [1, 2, 3, 4, 2, 3, 5, 6, 1, 4]\n",
        "print(remove_duplicates(input_list))  # Output: [1, 2, 3, 4, 5, 6]"
      ]
    },
    {
      "cell_type": "markdown",
      "metadata": {
        "id": "l8aKQPykuNVg"
      },
      "source": [
        "Q4. Write a program to sort a stack using only another stack (no other data structures like arrays or\n",
        "linked lists).\n",
        "Input: stack = [9, 5, 1, 3]\n",
        "Output: stack = [1, 3, 5, 9]"
      ]
    },
    {
      "cell_type": "code",
      "execution_count": 4,
      "metadata": {
        "id": "STJoMVKTuNVg",
        "outputId": "187127fd-1229-47c1-8f12-b66a856619ae",
        "colab": {
          "base_uri": "https://localhost:8080/"
        }
      },
      "outputs": [
        {
          "output_type": "stream",
          "name": "stdout",
          "text": [
            "[9, 5, 3, 1]\n"
          ]
        }
      ],
      "source": [
        "def sort_stack(input_stack):\n",
        "    temp_stack = []\n",
        "\n",
        "    while input_stack:\n",
        "        # Pop an element from the input stack\n",
        "        temp = input_stack.pop()\n",
        "\n",
        "        # While temporary stack is not empty and top of temp_stack is greater than temp\n",
        "        while temp_stack and temp_stack[-1] > temp:\n",
        "            # Pop from temp_stack and push it to the input stack\n",
        "            input_stack.append(temp_stack.pop())\n",
        "\n",
        "        # Push temp in temp_stack\n",
        "        temp_stack.append(temp)\n",
        "\n",
        "    # Transfer sorted elements back to input_stack\n",
        "    while temp_stack:\n",
        "        input_stack.append(temp_stack.pop())\n",
        "\n",
        "    return input_stack\n",
        "\n",
        "# Test the function\n",
        "stack = [9, 5, 1, 3]\n",
        "sorted_stack = sort_stack(stack)\n",
        "print(sorted_stack)  # Output: [1, 3, 5, 9]"
      ]
    },
    {
      "cell_type": "markdown",
      "metadata": {
        "id": "olvFjtdGuNVh"
      },
      "source": [
        "Q5. Make a module “pascal.py” with function “pascalTriangle(numOfRows)” and import into\n",
        "“main.py”.\n",
        "Input : Enter the num of rows : 7"
      ]
    },
    {
      "cell_type": "code",
      "execution_count": 5,
      "metadata": {
        "id": "IZ42atG0uNVh",
        "outputId": "1965e5bd-5833-49cf-d4f6-e3885a6c8cf6",
        "colab": {
          "base_uri": "https://localhost:8080/"
        }
      },
      "outputs": [
        {
          "output_type": "stream",
          "name": "stdout",
          "text": [
            "       1\n",
            "      1 1\n",
            "     1 2 1\n",
            "    1 3 3 1\n",
            "   1 4 6 4 1\n",
            "  1 5 10 10 5 1\n",
            " 1 6 15 20 15 6 1\n"
          ]
        }
      ],
      "source": [
        "def pascalTriangle(numOfRows):\n",
        "    result = []\n",
        "    for i in range(numOfRows):\n",
        "        row = [1] * (i + 1)\n",
        "        for j in range(1, i):\n",
        "            row[j] = result[i - 1][j - 1] + result[i - 1][j]\n",
        "        result.append(row)\n",
        "    return result\n",
        "\n",
        "pascalPrint = pascalTriangle(7)\n",
        "for row in pascalPrint:\n",
        "    print(' ' * (len(pascalPrint) - len(row)), end=' ')\n",
        "    print(' '.join(map(str, row)))\n"
      ]
    },
    {
      "cell_type": "markdown",
      "metadata": {
        "id": "sDrtW4xtuNVh"
      },
      "source": [
        "Q6. Create a 6x6 matrix with random values and:\n",
        "Replace all values greater than 0.5 with 1, and all others with 0.\n",
        "Extract a 3x3 submatrix starting from index (2, 2) and calculate its mean."
      ]
    },
    {
      "cell_type": "code",
      "execution_count": 6,
      "metadata": {
        "id": "4hGunH1SuNVh",
        "outputId": "4cd22643-ffbc-4eab-dca0-7dc01e7adc8e",
        "colab": {
          "base_uri": "https://localhost:8080/"
        }
      },
      "outputs": [
        {
          "output_type": "stream",
          "name": "stdout",
          "text": [
            "Original Matrix:\n",
            " [[0.86948825 0.08535051 0.03110924 0.65474528 0.31696023 0.90722825]\n",
            " [0.54964249 0.79003971 0.7535203  0.17362317 0.08825059 0.5329868 ]\n",
            " [0.65850493 0.65487526 0.38548826 0.75856598 0.10346746 0.18233795]\n",
            " [0.13527768 0.1331289  0.83916592 0.00684537 0.40230358 0.25530891]\n",
            " [0.47449244 0.91574933 0.59769771 0.69017271 0.98406469 0.22147995]\n",
            " [0.98047217 0.54919604 0.70142147 0.1340408  0.66148345 0.99676638]]\n",
            "Modified Matrix:\n",
            " [[1. 0. 0. 1. 0. 1.]\n",
            " [1. 1. 1. 0. 0. 1.]\n",
            " [1. 1. 0. 1. 0. 0.]\n",
            " [0. 0. 1. 0. 0. 0.]\n",
            " [0. 1. 1. 1. 1. 0.]\n",
            " [1. 1. 1. 0. 1. 1.]]\n",
            "3x3 Submatrix:\n",
            " [[0. 1. 0.]\n",
            " [1. 0. 0.]\n",
            " [1. 1. 1.]]\n",
            "Mean of the 3x3 Submatrix: 0.5555555555555556\n"
          ]
        }
      ],
      "source": [
        "import numpy as np\n",
        "\n",
        "# Create a 6x6 matrix with random values\n",
        "matrix = np.random.rand(6, 6)\n",
        "print(\"Original Matrix:\\n\", matrix)\n",
        "\n",
        "# Replace all values greater than 0.5 with 1, and all others with 0\n",
        "matrix[matrix > 0.5] = 1\n",
        "matrix[matrix <= 0.5] = 0\n",
        "print(\"Modified Matrix:\\n\", matrix)\n",
        "\n",
        "# Extract a 3x3 submatrix starting from index (2, 2)\n",
        "submatrix = matrix[2:5, 2:5]\n",
        "print(\"3x3 Submatrix:\\n\", submatrix)\n",
        "\n",
        "# Calculate the mean of the submatrix\n",
        "mean_value = np.mean(submatrix)\n",
        "print(\"Mean of the 3x3 Submatrix:\", mean_value)"
      ]
    },
    {
      "cell_type": "markdown",
      "metadata": {
        "id": "SiNOvn4euNVi"
      },
      "source": [
        "Q7. Array Reshaping:\n",
        "Create a 1D array with 16 elements. Reshape it into a 4x4 matrix.\n",
        "Flatten a 3x3x3 array into a 1D array.\n",
        "Reshape a matrix into a new shape without changing its data."
      ]
    },
    {
      "cell_type": "code",
      "execution_count": 7,
      "metadata": {
        "id": "HdEVTfTAuNVi",
        "outputId": "36aef204-cccf-4a79-83f0-3b79b57e63f9",
        "colab": {
          "base_uri": "https://localhost:8080/"
        }
      },
      "outputs": [
        {
          "output_type": "stream",
          "name": "stdout",
          "text": [
            "\n",
            "\n",
            "1D Array:\n",
            " [ 0  1  2  3  4  5  6  7  8  9 10 11 12 13 14 15]\n",
            "\n",
            "\n",
            "4x4 Matrix:\n",
            " [[ 0  1  2  3]\n",
            " [ 4  5  6  7]\n",
            " [ 8  9 10 11]\n",
            " [12 13 14 15]]\n",
            "\n",
            "\n",
            "3x3x3 Array:\n",
            " [[[ 0  1  2]\n",
            "  [ 3  4  5]\n",
            "  [ 6  7  8]]\n",
            "\n",
            " [[ 9 10 11]\n",
            "  [12 13 14]\n",
            "  [15 16 17]]\n",
            "\n",
            " [[18 19 20]\n",
            "  [21 22 23]\n",
            "  [24 25 26]]]\n",
            "\n",
            "\n",
            "Flattened Array:\n",
            " [ 0  1  2  3  4  5  6  7  8  9 10 11 12 13 14 15 16 17 18 19 20 21 22 23\n",
            " 24 25 26]\n",
            "\n",
            "\n",
            "Reshaped Matrix (2x8):\n",
            " [[ 0  1  2  3  4  5  6  7]\n",
            " [ 8  9 10 11 12 13 14 15]]\n"
          ]
        }
      ],
      "source": [
        "import numpy as np\n",
        "\n",
        "# Create a 1D array with 16 elements\n",
        "array_1d = np.arange(16)\n",
        "print(\"\\n\\n1D Array:\\n\", array_1d)\n",
        "\n",
        "# Reshape it into a 4x4 matrix\n",
        "matrix_4x4 = array_1d.reshape(4, 4)\n",
        "print(\"\\n\\n4x4 Matrix:\\n\", matrix_4x4)\n",
        "\n",
        "# Create a 3x3x3 array\n",
        "array_3x3x3 = np.arange(27).reshape(3, 3, 3)\n",
        "print(\"\\n\\n3x3x3 Array:\\n\", array_3x3x3)\n",
        "\n",
        "# Flatten the 3x3x3 array into a 1D array\n",
        "flattened_array = array_3x3x3.flatten()\n",
        "print(\"\\n\\nFlattened Array:\\n\", flattened_array)\n",
        "\n",
        "# Reshape a matrix into a new shape without changing its data\n",
        "reshaped_matrix = matrix_4x4.reshape(2, 8)\n",
        "print(\"\\n\\nReshaped Matrix (2x8):\\n\", reshaped_matrix)"
      ]
    },
    {
      "cell_type": "markdown",
      "metadata": {
        "id": "ZOrf1My_uNVi"
      },
      "source": [
        "Q8. Write a recursive function Fibonacci_sum(n) to calaculate the sum of first n numbers in Fibonacci\n",
        "series 0, 1, 1, 2, 3, 5, 8, 13, 21, 34, 55, 89.\n",
        "Input: 1 Output: 0\n",
        "Input: 4: Output: 4"
      ]
    },
    {
      "cell_type": "code",
      "execution_count": 8,
      "metadata": {
        "id": "u-QgkXUpuNVi",
        "outputId": "d7627317-7f46-4b6f-af88-4c79d7b51420",
        "colab": {
          "base_uri": "https://localhost:8080/"
        }
      },
      "outputs": [
        {
          "output_type": "stream",
          "name": "stdout",
          "text": [
            "0\n",
            "4\n",
            "20\n"
          ]
        }
      ],
      "source": [
        "def Fibonacci_sum(n):\n",
        "    # Base cases\n",
        "    if n <= 0:\n",
        "        return 0\n",
        "    elif n == 1:\n",
        "        return 0\n",
        "    elif n == 2:\n",
        "        return 1\n",
        "    else:\n",
        "        # Recursive case\n",
        "        return Fibonacci_sum(n-1)  + Fibonacci(n-1)\n",
        "\n",
        "def Fibonacci(n):\n",
        "    if n <= 0:\n",
        "        return 0\n",
        "    elif n == 1:\n",
        "        return 1\n",
        "    else:\n",
        "        return Fibonacci(n-1) + Fibonacci(n-2)\n",
        "\n",
        "# Test the function\n",
        "print(Fibonacci_sum(1))  # Output: 0\n",
        "print(Fibonacci_sum(4))  # Output: 4\n",
        "print(Fibonacci_sum(7))  # Output: 20"
      ]
    },
    {
      "cell_type": "markdown",
      "metadata": {
        "id": "DoD3Rb3EuNVj"
      },
      "source": [
        "Q9. Define a function get_value_from_dict that takes a dictionary and a key as parameters. If the key\n",
        "is not present in the dictionary, the function should raise a KeyError with a custom error message.\n",
        "Write a main function that calls get_value_from_dict with a dictionary and user-provided key. Handle\n",
        "KeyError and display a user-friendly message if the key is not found."
      ]
    },
    {
      "cell_type": "code",
      "execution_count": 9,
      "metadata": {
        "colab": {
          "base_uri": "https://localhost:8080/"
        },
        "id": "B4Y3KwzcuNVj",
        "outputId": "9aa9baa0-b152-4bfe-e973-ad73d9e8d11e"
      },
      "outputs": [
        {
          "output_type": "stream",
          "name": "stdout",
          "text": [
            "The value for key 'a' is 1.\n"
          ]
        }
      ],
      "source": [
        "def get_value_from_dict(d, key):\n",
        "    if key not in d:\n",
        "        raise KeyError(f\"Key '{key}' not found in the dictionary.\")\n",
        "    return d[key]\n",
        "\n",
        "def main():\n",
        "    sample_dict = {\n",
        "        'a': 1, 'b': 2, 'c': 3, 'd': 4, 'e': 5, 'f': 6, 'g': 7, 'h': 8, 'i': 9, 'j': 10,\n",
        "        'k': 11, 'l': 12\n",
        "    }\n",
        "    user_key = 'a'  # Static key\n",
        "\n",
        "    try:\n",
        "        value = get_value_from_dict(sample_dict, user_key)\n",
        "        print(f\"The value for key '{user_key}' is {value}.\")\n",
        "    except KeyError as e:\n",
        "        print(e)\n",
        "\n",
        "# Call the main function\n",
        "main()"
      ]
    },
    {
      "cell_type": "code",
      "execution_count": 9,
      "metadata": {
        "id": "MENxqfzKuNVj"
      },
      "outputs": [],
      "source": []
    }
  ],
  "metadata": {
    "kernelspec": {
      "display_name": "Python 3",
      "language": "python",
      "name": "python3"
    },
    "language_info": {
      "codemirror_mode": {
        "name": "ipython",
        "version": 3
      },
      "file_extension": ".py",
      "mimetype": "text/x-python",
      "name": "python",
      "nbconvert_exporter": "python",
      "pygments_lexer": "ipython3",
      "version": "3.11.9"
    },
    "colab": {
      "provenance": [],
      "include_colab_link": true
    }
  },
  "nbformat": 4,
  "nbformat_minor": 0
}